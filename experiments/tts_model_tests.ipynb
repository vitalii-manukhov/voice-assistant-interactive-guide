{
 "cells": [
  {
   "cell_type": "markdown",
   "metadata": {},
   "source": [
    "### Import libraries"
   ]
  },
  {
   "cell_type": "code",
   "execution_count": null,
   "metadata": {},
   "outputs": [],
   "source": [
    "from transformers import pipeline\n",
    "from transformers import AutoProcessor, AutoModel\n",
    "from transformers import VitsModel, AutoTokenizer, set_seed\n",
    "\n",
    "import scipy\n",
    "from scipy.io.wavfile import write as write_wav\n",
    "\n",
    "from IPython.display import Audio\n",
    "import IPython.display as ipd\n",
    "\n",
    "from fairseq.checkpoint_utils import load_model_ensemble_and_task_from_hf_hub\n",
    "from fairseq.models.text_to_speech.hub_interface import TTSHubInterface\n",
    "\n",
    "import torch\n",
    "from ruaccent import RUAccent"
   ]
  },
  {
   "cell_type": "markdown",
   "metadata": {},
   "source": [
    "### Bark"
   ]
  },
  {
   "cell_type": "code",
   "execution_count": null,
   "metadata": {},
   "outputs": [],
   "source": [
    "model_id = \"suno/bark\"\n",
    "task = \"text-to-speech\"\n",
    "text = \"Hello, my dog is cooler than you!\"\n",
    "synthesiser = pipeline(task, model_id)\n",
    "\n",
    "speech = synthesiser(\n",
    "    text_inputs=text,\n",
    "    forward_params={\"do_sample\": True},\n",
    ")\n",
    "\n",
    "filename = \"bark_out.wav\"\n",
    "scipy.io.wavfile.write(\n",
    "    filename=filename,\n",
    "    rate=speech[\"sampling_rate\"],\n",
    "    data=speech[\"audio\"]\n",
    ")"
   ]
  },
  {
   "cell_type": "markdown",
   "metadata": {},
   "source": [
    "### Bark-small"
   ]
  },
  {
   "cell_type": "code",
   "execution_count": null,
   "metadata": {},
   "outputs": [],
   "source": [
    "model_id = \"suno/bark-small\"\n",
    "processor = AutoProcessor.from_pretrained(model_id)\n",
    "model = AutoModel.from_pretrained(model_id)\n",
    "text = [\"\"\"Нажмите на кнопку Р У 5. Это включит свет\"\"\"\n",
    "]\n",
    "\n",
    "inputs = processor(\n",
    "    text=text,\n",
    "    return_tensors=\"pt\",\n",
    ")\n",
    "\n",
    "speech_values = model.generate(\n",
    "    **inputs,\n",
    "    do_sample=True,\n",
    "    pad_token_id=processor.tokenizer.pad_token_id\n",
    ")\n",
    "\n",
    "sampling_rate = model.generation_config.sample_rate\n",
    "Audio(speech_values.cpu().numpy().squeeze(), rate=sampling_rate)\n",
    "\n",
    "sampling_rate = model.generation_config.sample_rate\n",
    "write_wav(\n",
    "    \"bark_out.wav\",\n",
    "    rate=sampling_rate,\n",
    "    data=speech_values.cpu().numpy().squeeze()\n",
    ")"
   ]
  },
  {
   "cell_type": "markdown",
   "metadata": {},
   "source": [
    "### facebook/tts_transformer-ru-cv7_css10"
   ]
  },
  {
   "cell_type": "code",
   "execution_count": null,
   "metadata": {},
   "outputs": [],
   "source": [
    "model_id = \"facebook/tts_transformer-ru-cv7_css10\"\n",
    "models, cfg, task = load_model_ensemble_and_task_from_hf_hub(\n",
    "    model_id,\n",
    "    arg_overrides={\"vocoder\": \"hifigan\", \"fp16\": False}\n",
    ")\n",
    "model = models[0]\n",
    "TTSHubInterface.update_cfg_with_data_cfg(cfg, task.data_cfg)\n",
    "generator = task.build_generator([model], cfg)\n",
    "\n",
    "text = \"Нажмите на кнопку Р У ПЯТЬ. Это включит свет\"\n",
    "\n",
    "sample = TTSHubInterface.get_model_input(task, text)\n",
    "wav, rate = TTSHubInterface.get_prediction(task, model, generator, sample)\n",
    "\n",
    "ipd.Audio(wav, rate=rate)"
   ]
  },
  {
   "cell_type": "markdown",
   "metadata": {},
   "source": [
    "### utrobinmv/tts_ru_free_hf_vits_low_multispeaker"
   ]
  },
  {
   "cell_type": "code",
   "execution_count": null,
   "metadata": {},
   "outputs": [],
   "source": [
    "# load model\n",
    "model_name = \"utrobinmv/tts_ru_free_hf_vits_low_multispeaker\"\n",
    "\n",
    "model = VitsModel.from_pretrained(model_name)\n",
    "tokenizer = AutoTokenizer.from_pretrained(model_name)\n",
    "model.eval()\n",
    "\n",
    "# load accentizer\n",
    "accentizer = RUAccent()\n",
    "accentizer.load(omograph_model_size='turbo', use_dictionary=True)\n",
    "\n",
    "set_seed(555)  # make deterministic\n",
    "\n",
    "speaker = 1 # 0-man, 1-woman \n",
    "\n",
    "text = \"\"\"Нажмите на кнопку Р У 5. Это включит свет\"\"\"\n",
    "\n",
    "# the placement of accents\n",
    "text = accentizer.process_all(text)\n",
    "print(text)\n",
    "\n",
    "inputs = tokenizer(text, return_tensors=\"pt\")\n",
    "inputs['speaker_id'] = speaker\n",
    "\n",
    "with torch.no_grad():\n",
    "    output = model(**inputs).waveform\n",
    "    \n",
    "scipy.io.wavfile.write(\"tts_audio.wav\", rate=model.config.sampling_rate,\n",
    "                       data=output[0].cpu().numpy())"
   ]
  },
  {
   "cell_type": "markdown",
   "metadata": {},
   "source": [
    "### TTS"
   ]
  },
  {
   "cell_type": "code",
   "execution_count": null,
   "metadata": {},
   "outputs": [],
   "source": [
    "import torch\n",
    "from TTS.api import TTS\n",
    "\n",
    "# Get device\n",
    "device = \"cuda\" if torch.cuda.is_available() else \"cpu\"\n",
    "\n",
    "# List available 🐸TTS models\n",
    "print(TTS().list_models())\n",
    "\n",
    "# Init TTS\n",
    "tts = TTS(\"tts_models/multilingual/multi-dataset/xtts_v2\").to(device)\n",
    "\n",
    "# Text to speech to a file\n",
    "tts.tts_to_file(text=\"Нажмите на кнопку Р У ПЯТЬ. Это включит свет.\", speaker_wav=\"/home/vitalii/projects/voice-assistant-interactive-guide/experiments/test.wav\", language=\"ru\", file_path=\"output.wav\")"
   ]
  },
  {
   "cell_type": "markdown",
   "metadata": {},
   "source": [
    "### parler-tts/parler_tts_mini_v0.1"
   ]
  },
  {
   "cell_type": "code",
   "execution_count": null,
   "metadata": {},
   "outputs": [],
   "source": [
    "import torch\n",
    "from parler_tts import ParlerTTSForConditionalGeneration\n",
    "from transformers import AutoTokenizer\n",
    "import soundfile as sf\n",
    "\n",
    "device = \"cuda:0\" if torch.cuda.is_available() else \"cpu\"\n",
    "\n",
    "model = ParlerTTSForConditionalGeneration.from_pretrained(\"parler-tts/parler_tts_mini_v0.1\").to(device)\n",
    "tokenizer = AutoTokenizer.from_pretrained(\"parler-tts/parler_tts_mini_v0.1\")\n",
    "\n",
    "prompt = \"Нажмите на кнопку РУ ПЯТЬ. Это включит свет.\"\n",
    "description = \"A female speaker with a slightly low-pitched voice delivers her words quite expressively, in a very confined sounding environment with clear audio quality. She speaks very fast.\"\n",
    "\n",
    "input_ids = tokenizer(description, return_tensors=\"pt\").input_ids.to(device)\n",
    "prompt_input_ids = tokenizer(prompt, return_tensors=\"pt\").input_ids.to(device)\n",
    "\n",
    "generation = model.generate(input_ids=input_ids, prompt_input_ids=prompt_input_ids)\n",
    "audio_arr = generation.cpu().numpy().squeeze()\n",
    "sf.write(\"parler_tts_out.wav\", audio_arr, model.config.sampling_rate)\n"
   ]
  },
  {
   "cell_type": "markdown",
   "metadata": {},
   "source": [
    "### Vosk"
   ]
  },
  {
   "cell_type": "code",
   "execution_count": 1,
   "metadata": {},
   "outputs": [],
   "source": [
    "from vosk_tts import Model, Synth\n",
    "model = Model(model_name=\"vosk-model-tts-ru-0.6-multi\")\n",
    "synth = Synth(model)\n",
    "\n",
    "synth.synth(\"Нажмите на кнопку РУ ПЯТЬ. Это включит свет.\", \"out.wav\", speaker_id=2)"
   ]
  },
  {
   "cell_type": "markdown",
   "metadata": {},
   "source": [
    "### snakers4/silero-models"
   ]
  },
  {
   "cell_type": "code",
   "execution_count": null,
   "metadata": {},
   "outputs": [],
   "source": [
    "# V4\n",
    "import torch\n",
    "\n",
    "language = 'ru'\n",
    "model_id = 'v4_ru'\n",
    "sample_rate = 48000\n",
    "speaker = 'baya'\n",
    "device = torch.device('cpu')\n",
    "\n",
    "model, example_text = torch.hub.load(repo_or_dir='snakers4/silero-models',\n",
    "                                     model='silero_tts',\n",
    "                                     language=language,\n",
    "                                     speaker=model_id)\n",
    "model.to(device)  # gpu or cpu\n",
    "\n",
    "example_text = \"ТУТ ВАШ ТЕКСТ\"\n",
    "\n",
    "audio = model.save_wav(text=example_text,\n",
    "                       speaker=speaker,\n",
    "                       sample_rate=sample_rate)"
   ]
  }
 ],
 "metadata": {
  "kernelspec": {
   "display_name": ".venv",
   "language": "python",
   "name": "python3"
  },
  "language_info": {
   "codemirror_mode": {
    "name": "ipython",
    "version": 3
   },
   "file_extension": ".py",
   "mimetype": "text/x-python",
   "name": "python",
   "nbconvert_exporter": "python",
   "pygments_lexer": "ipython3",
   "version": "3.10.12"
  }
 },
 "nbformat": 4,
 "nbformat_minor": 2
}
